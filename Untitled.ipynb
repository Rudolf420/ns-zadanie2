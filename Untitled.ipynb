{
 "cells": [
  {
   "cell_type": "code",
   "execution_count": 1,
   "id": "383211dc",
   "metadata": {
    "scrolled": true
   },
   "outputs": [
    {
     "name": "stderr",
     "output_type": "stream",
     "text": [
      "2023-04-04 22:53:59.747301: I tensorflow/core/platform/cpu_feature_guard.cc:193] This TensorFlow binary is optimized with oneAPI Deep Neural Network Library (oneDNN) to use the following CPU instructions in performance-critical operations:  SSE4.1 SSE4.2\n",
      "To enable them in other operations, rebuild TensorFlow with the appropriate compiler flags.\n"
     ]
    }
   ],
   "source": [
    "import os\n",
    "import numpy as np\n",
    "import pandas as pd\n",
    "import tensorflow as tf\n",
    "from sklearn.model_selection import train_test_split\n",
    "from tensorflow.keras.models import Sequential\n",
    "from tensorflow.keras.layers import Conv2D, MaxPooling2D, Dense, Flatten, Dropout, BatchNormalization\n",
    "from tensorflow.keras.optimizers import Adam\n",
    "from tensorflow.keras.callbacks import EarlyStopping, ReduceLROnPlateau\n",
    "from tensorflow.keras.preprocessing.image import ImageDataGenerator"
   ]
  },
  {
   "cell_type": "code",
   "execution_count": 2,
   "id": "dd5f8fb7",
   "metadata": {},
   "outputs": [],
   "source": [
    "# Constants\n",
    "image_size = (48, 48)\n",
    "batch_size = 128\n",
    "num_classes = 7\n",
    "epochs = 1000"
   ]
  },
  {
   "cell_type": "code",
   "execution_count": 3,
   "id": "695cc0e8",
   "metadata": {},
   "outputs": [],
   "source": [
    "# Image data generators\n",
    "train_datagen = ImageDataGenerator(\n",
    "    rescale=1./255,\n",
    "    rotation_range = 30,\n",
    "    width_shift_range = 0.3,\n",
    "    height_shift_range = 0.3,\n",
    "    horizontal_flip = False,\n",
    "    zoom_range = 0.3)\n",
    "valid_datagen = ImageDataGenerator(rescale=1./255)\n",
    "test_datagen = ImageDataGenerator(rescale=1./255)\n"
   ]
  },
  {
   "cell_type": "code",
   "execution_count": 4,
   "id": "b44d0096",
   "metadata": {},
   "outputs": [
    {
     "name": "stdout",
     "output_type": "stream",
     "text": [
      "Found 28709 images belonging to 7 classes.\n",
      "Found 7178 images belonging to 7 classes.\n"
     ]
    }
   ],
   "source": [
    "train_generator = train_datagen.flow_from_directory(\n",
    "    'data/train',\n",
    "    target_size=image_size,\n",
    "    color_mode='grayscale',\n",
    "    batch_size=batch_size,\n",
    "    class_mode='categorical')\n",
    "\n",
    "valid_generator = valid_datagen.flow_from_directory(\n",
    "    'data/valid',\n",
    "    target_size=image_size,\n",
    "    color_mode='grayscale',\n",
    "    batch_size=batch_size,\n",
    "    class_mode='categorical')\n",
    "\n",
    "test_generator = test_datagen.flow_from_directory(\n",
    "    'data/test',\n",
    "    target_size=image_size,\n",
    "    color_mode='grayscale',\n",
    "    batch_size=batch_size,\n",
    "    class_mode='categorical')"
   ]
  },
  {
   "cell_type": "code",
   "execution_count": 5,
   "id": "3c0a9461",
   "metadata": {},
   "outputs": [
    {
     "name": "stderr",
     "output_type": "stream",
     "text": [
      "2023-04-04 22:54:17.916439: I tensorflow/core/platform/cpu_feature_guard.cc:193] This TensorFlow binary is optimized with oneAPI Deep Neural Network Library (oneDNN) to use the following CPU instructions in performance-critical operations:  SSE4.1 SSE4.2\n",
      "To enable them in other operations, rebuild TensorFlow with the appropriate compiler flags.\n"
     ]
    }
   ],
   "source": [
    "input_shape = (48, 48, 1)\n",
    "num_classes = 7\n",
    "\n",
    "model = Sequential([\n",
    "        Conv2D(64, (3, 3), activation='relu', input_shape=input_shape, padding='same'),\n",
    "        BatchNormalization(),\n",
    "        MaxPooling2D(pool_size=(2, 2)),\n",
    "        Dropout(0.3),\n",
    "        \n",
    "        Conv2D(128, (3, 3), activation='relu', padding='same'),\n",
    "        BatchNormalization(),\n",
    "        MaxPooling2D(pool_size=(2, 2)),\n",
    "        Dropout(0.5),\n",
    "\n",
    "        Conv2D(256, (3, 3), activation='relu', padding='same'),\n",
    "        BatchNormalization(),\n",
    "        MaxPooling2D(pool_size=(2, 2)),\n",
    "        Dropout(0.5),\n",
    "\n",
    "        Flatten(),\n",
    "        Dense(256, activation='relu'),\n",
    "        BatchNormalization(),\n",
    "        Dropout(0.5),\n",
    "        Dense(num_classes, activation='softmax')\n",
    "    ])\n"
   ]
  },
  {
   "cell_type": "code",
   "execution_count": 6,
   "id": "39f01f1a",
   "metadata": {},
   "outputs": [
    {
     "name": "stderr",
     "output_type": "stream",
     "text": [
      "/Users/zvjssnn01zvjssnn01/opt/anaconda3/envs/tf_pytorch_env/lib/python3.9/site-packages/keras/optimizers/optimizer_v2/adam.py:114: UserWarning: The `lr` argument is deprecated, use `learning_rate` instead.\n",
      "  super().__init__(name, **kwargs)\n"
     ]
    }
   ],
   "source": [
    "optimizer = Adam(lr=0.001)\n",
    "model.compile(optimizer=optimizer, loss='categorical_crossentropy', metrics=['accuracy'])\n",
    "\n",
    "early_stopping = EarlyStopping(monitor='val_loss', patience=20)\n",
    "reduce_lr_on_plateau = ReduceLROnPlateau(monitor='val_loss', factor=0.1, patience=10)\n",
    "\n",
    "callbacks = [early_stopping, reduce_lr_on_plateau]\n"
   ]
  },
  {
   "cell_type": "code",
   "execution_count": 7,
   "id": "c7e63797",
   "metadata": {},
   "outputs": [
    {
     "name": "stdout",
     "output_type": "stream",
     "text": [
      "Epoch 1/50\n",
      "898/898 [==============================] - 146s 162ms/step - loss: 1.8760 - accuracy: 0.3147 - val_loss: 1.5189 - val_accuracy: 0.4274 - lr: 0.0010\n",
      "Epoch 2/50\n",
      "898/898 [==============================] - 145s 162ms/step - loss: 1.4836 - accuracy: 0.4285 - val_loss: 1.4347 - val_accuracy: 0.4330 - lr: 0.0010\n",
      "Epoch 3/50\n",
      "898/898 [==============================] - 147s 163ms/step - loss: 1.3888 - accuracy: 0.4677 - val_loss: 2.6561 - val_accuracy: 0.2728 - lr: 0.0010\n",
      "Epoch 4/50\n",
      "898/898 [==============================] - 150s 167ms/step - loss: 1.3452 - accuracy: 0.4856 - val_loss: 1.3133 - val_accuracy: 0.5056 - lr: 0.0010\n",
      "Epoch 5/50\n",
      "898/898 [==============================] - 145s 161ms/step - loss: 1.3236 - accuracy: 0.4943 - val_loss: 1.3715 - val_accuracy: 0.5024 - lr: 0.0010\n",
      "Epoch 6/50\n",
      "898/898 [==============================] - 145s 161ms/step - loss: 1.2689 - accuracy: 0.5187 - val_loss: 1.2699 - val_accuracy: 0.5325 - lr: 0.0010\n",
      "Epoch 7/50\n",
      "898/898 [==============================] - 146s 163ms/step - loss: 1.2493 - accuracy: 0.5258 - val_loss: 1.2927 - val_accuracy: 0.5231 - lr: 0.0010\n",
      "Epoch 8/50\n",
      "898/898 [==============================] - 146s 163ms/step - loss: 1.2308 - accuracy: 0.5362 - val_loss: 1.2249 - val_accuracy: 0.5486 - lr: 0.0010\n",
      "Epoch 9/50\n",
      "898/898 [==============================] - 146s 163ms/step - loss: 1.1996 - accuracy: 0.5482 - val_loss: 1.3484 - val_accuracy: 0.5091 - lr: 0.0010\n",
      "Epoch 10/50\n",
      "898/898 [==============================] - 144s 160ms/step - loss: 1.1964 - accuracy: 0.5471 - val_loss: 1.2092 - val_accuracy: 0.5520 - lr: 0.0010\n",
      "Epoch 11/50\n",
      "898/898 [==============================] - 144s 161ms/step - loss: 1.1690 - accuracy: 0.5590 - val_loss: 1.3096 - val_accuracy: 0.5114 - lr: 0.0010\n",
      "Epoch 12/50\n",
      "898/898 [==============================] - 144s 160ms/step - loss: 1.1532 - accuracy: 0.5636 - val_loss: 1.3228 - val_accuracy: 0.5429 - lr: 0.0010\n",
      "Epoch 13/50\n",
      "898/898 [==============================] - 144s 160ms/step - loss: 1.1360 - accuracy: 0.5701 - val_loss: 1.1237 - val_accuracy: 0.5758 - lr: 0.0010\n",
      "Epoch 14/50\n",
      "898/898 [==============================] - 144s 160ms/step - loss: 1.1360 - accuracy: 0.5709 - val_loss: 1.2692 - val_accuracy: 0.5302 - lr: 0.0010\n",
      "Epoch 15/50\n",
      "898/898 [==============================] - 145s 161ms/step - loss: 1.1139 - accuracy: 0.5809 - val_loss: 1.3150 - val_accuracy: 0.5224 - lr: 0.0010\n",
      "Epoch 16/50\n",
      "898/898 [==============================] - 145s 161ms/step - loss: 1.0965 - accuracy: 0.5854 - val_loss: 1.0964 - val_accuracy: 0.5830 - lr: 0.0010\n",
      "Epoch 17/50\n",
      "898/898 [==============================] - 146s 163ms/step - loss: 1.0785 - accuracy: 0.5950 - val_loss: 1.1120 - val_accuracy: 0.5829 - lr: 0.0010\n",
      "Epoch 18/50\n",
      "898/898 [==============================] - 145s 161ms/step - loss: 1.0704 - accuracy: 0.5948 - val_loss: 1.1540 - val_accuracy: 0.5745 - lr: 0.0010\n",
      "Epoch 19/50\n",
      "898/898 [==============================] - 145s 161ms/step - loss: 1.0708 - accuracy: 0.5965 - val_loss: 1.0911 - val_accuracy: 0.5981 - lr: 0.0010\n",
      "Epoch 20/50\n",
      "898/898 [==============================] - 145s 162ms/step - loss: 1.0228 - accuracy: 0.6150 - val_loss: 1.0787 - val_accuracy: 0.6032 - lr: 0.0010\n",
      "Epoch 21/50\n",
      "898/898 [==============================] - 144s 161ms/step - loss: 1.0076 - accuracy: 0.6221 - val_loss: 1.0857 - val_accuracy: 0.6000 - lr: 0.0010\n",
      "Epoch 22/50\n",
      "898/898 [==============================] - 145s 161ms/step - loss: 1.0080 - accuracy: 0.6217 - val_loss: 1.0581 - val_accuracy: 0.6057 - lr: 0.0010\n",
      "Epoch 23/50\n",
      "898/898 [==============================] - 145s 162ms/step - loss: 0.9892 - accuracy: 0.6317 - val_loss: 1.2478 - val_accuracy: 0.5408 - lr: 0.0010\n",
      "Epoch 24/50\n",
      "898/898 [==============================] - 145s 161ms/step - loss: 0.9788 - accuracy: 0.6358 - val_loss: 1.0590 - val_accuracy: 0.6092 - lr: 0.0010\n",
      "Epoch 25/50\n",
      "898/898 [==============================] - 144s 161ms/step - loss: 0.9613 - accuracy: 0.6409 - val_loss: 1.0834 - val_accuracy: 0.6045 - lr: 0.0010\n",
      "Epoch 26/50\n",
      "898/898 [==============================] - 146s 162ms/step - loss: 0.9605 - accuracy: 0.6368 - val_loss: 1.2426 - val_accuracy: 0.5638 - lr: 0.0010\n",
      "Epoch 27/50\n",
      "898/898 [==============================] - 145s 161ms/step - loss: 0.9722 - accuracy: 0.6351 - val_loss: 1.1868 - val_accuracy: 0.5662 - lr: 0.0010\n",
      "Epoch 28/50\n",
      "898/898 [==============================] - 146s 163ms/step - loss: 0.9175 - accuracy: 0.6581 - val_loss: 1.0220 - val_accuracy: 0.6273 - lr: 1.0000e-04\n",
      "Epoch 29/50\n",
      "898/898 [==============================] - 146s 162ms/step - loss: 0.8953 - accuracy: 0.6668 - val_loss: 1.0135 - val_accuracy: 0.6336 - lr: 1.0000e-04\n",
      "Epoch 30/50\n",
      "898/898 [==============================] - 145s 162ms/step - loss: 0.8805 - accuracy: 0.6722 - val_loss: 1.0095 - val_accuracy: 0.6310 - lr: 1.0000e-04\n",
      "Epoch 31/50\n",
      "898/898 [==============================] - 146s 162ms/step - loss: 0.8681 - accuracy: 0.6765 - val_loss: 1.0075 - val_accuracy: 0.6347 - lr: 1.0000e-04\n",
      "Epoch 32/50\n",
      "898/898 [==============================] - 146s 162ms/step - loss: 0.8644 - accuracy: 0.6808 - val_loss: 1.0233 - val_accuracy: 0.6315 - lr: 1.0000e-04\n",
      "Epoch 33/50\n",
      "898/898 [==============================] - 145s 162ms/step - loss: 0.8617 - accuracy: 0.6755 - val_loss: 1.0097 - val_accuracy: 0.6335 - lr: 1.0000e-04\n",
      "Epoch 34/50\n",
      "898/898 [==============================] - 146s 163ms/step - loss: 0.8512 - accuracy: 0.6829 - val_loss: 1.0088 - val_accuracy: 0.6335 - lr: 1.0000e-04\n",
      "Epoch 35/50\n",
      "898/898 [==============================] - 145s 161ms/step - loss: 0.8396 - accuracy: 0.6916 - val_loss: 1.0068 - val_accuracy: 0.6372 - lr: 1.0000e-04\n",
      "Epoch 36/50\n",
      "898/898 [==============================] - 146s 162ms/step - loss: 0.8372 - accuracy: 0.6934 - val_loss: 1.0044 - val_accuracy: 0.6376 - lr: 1.0000e-04\n",
      "Epoch 37/50\n",
      "898/898 [==============================] - 145s 161ms/step - loss: 0.8308 - accuracy: 0.6919 - val_loss: 1.0021 - val_accuracy: 0.6376 - lr: 1.0000e-04\n",
      "Epoch 38/50\n",
      "898/898 [==============================] - 145s 162ms/step - loss: 0.8276 - accuracy: 0.6924 - val_loss: 1.0161 - val_accuracy: 0.6307 - lr: 1.0000e-04\n",
      "Epoch 39/50\n",
      "898/898 [==============================] - 145s 161ms/step - loss: 0.8172 - accuracy: 0.6973 - val_loss: 1.0022 - val_accuracy: 0.6421 - lr: 1.0000e-04\n",
      "Epoch 40/50\n",
      "898/898 [==============================] - 146s 162ms/step - loss: 0.8182 - accuracy: 0.6966 - val_loss: 1.0052 - val_accuracy: 0.6414 - lr: 1.0000e-04\n",
      "Epoch 41/50\n",
      "898/898 [==============================] - 146s 162ms/step - loss: 0.8182 - accuracy: 0.6986 - val_loss: 1.0060 - val_accuracy: 0.6435 - lr: 1.0000e-04\n",
      "Epoch 42/50\n",
      "898/898 [==============================] - 146s 163ms/step - loss: 0.8090 - accuracy: 0.7013 - val_loss: 1.0021 - val_accuracy: 0.6422 - lr: 1.0000e-04\n",
      "Epoch 43/50\n",
      "898/898 [==============================] - 145s 162ms/step - loss: 0.8038 - accuracy: 0.7002 - val_loss: 1.0027 - val_accuracy: 0.6417 - lr: 1.0000e-05\n",
      "Epoch 44/50\n",
      "898/898 [==============================] - 145s 162ms/step - loss: 0.8011 - accuracy: 0.7028 - val_loss: 1.0035 - val_accuracy: 0.6403 - lr: 1.0000e-05\n",
      "Epoch 45/50\n",
      "898/898 [==============================] - 145s 161ms/step - loss: 0.8051 - accuracy: 0.7013 - val_loss: 1.0040 - val_accuracy: 0.6415 - lr: 1.0000e-05\n",
      "Epoch 46/50\n",
      "898/898 [==============================] - 145s 161ms/step - loss: 0.8056 - accuracy: 0.6995 - val_loss: 1.0041 - val_accuracy: 0.6403 - lr: 1.0000e-05\n",
      "Epoch 47/50\n",
      "898/898 [==============================] - 145s 161ms/step - loss: 0.7948 - accuracy: 0.7033 - val_loss: 1.0058 - val_accuracy: 0.6397 - lr: 1.0000e-05\n",
      "Epoch 48/50\n",
      "898/898 [==============================] - 145s 162ms/step - loss: 0.8060 - accuracy: 0.6995 - val_loss: 1.0039 - val_accuracy: 0.6420 - lr: 1.0000e-06\n",
      "Epoch 49/50\n",
      "898/898 [==============================] - 144s 161ms/step - loss: 0.8006 - accuracy: 0.7015 - val_loss: 1.0039 - val_accuracy: 0.6404 - lr: 1.0000e-06\n",
      "Epoch 50/50\n",
      "898/898 [==============================] - 145s 161ms/step - loss: 0.8005 - accuracy: 0.7011 - val_loss: 1.0011 - val_accuracy: 0.6415 - lr: 1.0000e-06\n"
     ]
    }
   ],
   "source": [
    "history = model.fit(\n",
    "    train_generator,\n",
    "    epochs=epochs,\n",
    "    verbose=1,\n",
    "    callbacks=callbacks,\n",
    "    validation_data=valid_generator)"
   ]
  },
  {
   "cell_type": "code",
   "execution_count": 8,
   "id": "2835ab11",
   "metadata": {},
   "outputs": [
    {
     "name": "stdout",
     "output_type": "stream",
     "text": [
      "Test loss: 1.0010662078857422\n",
      "Test accuracy: 0.6415436267852783\n"
     ]
    }
   ],
   "source": [
    "score = model.evaluate(test_generator, verbose=0)\n",
    "print('Test loss:', score[0])\n",
    "print('Test accuracy:', score[1])"
   ]
  }
 ],
 "metadata": {
  "kernelspec": {
   "display_name": "Python 3 (ipykernel)",
   "language": "python",
   "name": "python3"
  },
  "language_info": {
   "codemirror_mode": {
    "name": "ipython",
    "version": 3
   },
   "file_extension": ".py",
   "mimetype": "text/x-python",
   "name": "python",
   "nbconvert_exporter": "python",
   "pygments_lexer": "ipython3",
   "version": "3.9.16"
  }
 },
 "nbformat": 4,
 "nbformat_minor": 5
}
