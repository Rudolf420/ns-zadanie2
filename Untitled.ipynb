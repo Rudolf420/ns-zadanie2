{
 "cells": [
  {
   "cell_type": "markdown",
   "id": "0ad1336b-0b7a-4cf9-ae1f-91891a8ae0de",
   "metadata": {},
   "source": [
    "# ZADANIE 2\n",
    "# Neuronónová sieť na klasifikáciu výrazov tváre"
   ]
  },
  {
   "cell_type": "code",
   "execution_count": 2,
   "id": "383211dc",
   "metadata": {
    "scrolled": true
   },
   "outputs": [],
   "source": [
    "import os\n",
    "import numpy as np\n",
    "#import pandas as pd\n",
    "import tensorflow as tf\n",
    "#from sklearn.model_selection import train_test_split\n",
    "from tensorflow.keras.models import Sequential\n",
    "from tensorflow.keras.layers import Conv2D, MaxPooling2D, Dense, Flatten, Dropout, BatchNormalization\n",
    "from tensorflow.keras.optimizers import Adam\n",
    "from tensorflow.keras.callbacks import EarlyStopping, ReduceLROnPlateau\n",
    "from tensorflow.keras.preprocessing.image import ImageDataGenerator"
   ]
  },
  {
   "cell_type": "code",
   "execution_count": null,
   "id": "2dc24f03-495a-4ed1-9893-a5d8a1b427dd",
   "metadata": {},
   "outputs": [],
   "source": [
    "# Constants\n",
    "image_size = (48, 48)\n",
    "batch_size = 128\n",
    "num_classes = 7\n",
    "epochs = 1000"
   ]
  },
  {
   "cell_type": "markdown",
   "id": "61c0f762-d888-4a6c-b69d-45ac5a612097",
   "metadata": {
    "jp-MarkdownHeadingCollapsed": true,
    "tags": []
   },
   "source": [
    "#### Načítanie a spracovanie tréningových dát z datasetu, nastavili sme rozsah možnej rotácie, šírky, výšky a priblíženie obrázkov. Horizontálne otočenie sme neaktivovali  "
   ]
  },
  {
   "cell_type": "code",
   "execution_count": 3,
   "id": "695cc0e8",
   "metadata": {},
   "outputs": [],
   "source": [
    "# Image data generators\n",
    "train_datagen = ImageDataGenerator(\n",
    "    rescale=1./255,\n",
    "    rotation_range = 15,\n",
    "    width_shift_range = 0.2,\n",
    "    height_shift_range = 0.2,\n",
    "    horizontal_flip = False,\n",
    "    zoom_range = 0.2)\n",
    "#train_datagen = ImageDataGenerator(rescale=1./255)\n",
    "valid_datagen = ImageDataGenerator(rescale=1./255)\n",
    "test_datagen = ImageDataGenerator(rescale=1./255)\n"
   ]
  },
  {
   "cell_type": "markdown",
   "id": "fd818a8c-bc43-4c7b-bce4-6e584b97f5f3",
   "metadata": {},
   "source": [
    "#### Rozdelenie dát na trénovaciu, validačnú a testovaciu v pomere 8:1:1"
   ]
  },
  {
   "cell_type": "code",
   "execution_count": 4,
   "id": "b44d0096",
   "metadata": {},
   "outputs": [
    {
     "name": "stdout",
     "output_type": "stream",
     "text": [
      "Found 28709 images belonging to 7 classes.\n",
      "Found 3510 images belonging to 7 classes.\n",
      "Found 3668 images belonging to 7 classes.\n"
     ]
    }
   ],
   "source": [
    "train_generator = train_datagen.flow_from_directory(\n",
    "    'data/train',\n",
    "    target_size=image_size,\n",
    "    color_mode='grayscale',\n",
    "    batch_size=batch_size,\n",
    "    class_mode='categorical')\n",
    "\n",
    "valid_generator = valid_datagen.flow_from_directory(\n",
    "    'data/valid',\n",
    "    target_size=image_size,\n",
    "    color_mode='grayscale',\n",
    "    batch_size=batch_size,\n",
    "    class_mode='categorical')\n",
    "\n",
    "test_generator = test_datagen.flow_from_directory(\n",
    "    'data/test',\n",
    "    target_size=image_size,\n",
    "    color_mode='grayscale',\n",
    "    batch_size=batch_size,\n",
    "    class_mode='categorical')"
   ]
  },
  {
   "cell_type": "code",
   "execution_count": null,
   "id": "add62c19-d43c-430b-a510-0db371fbb0cd",
   "metadata": {},
   "outputs": [],
   "source": [
    "#### Vytvorenie CNN (konvolučnej neurónovej siete), ktorá sa skladá s viacerých konvolučných vrstiev, taktiež "
   ]
  },
  {
   "cell_type": "code",
   "execution_count": 5,
   "id": "3c0a9461",
   "metadata": {},
   "outputs": [
    {
     "name": "stderr",
     "output_type": "stream",
     "text": [
      "2023-04-07 15:59:31.321943: I tensorflow/compiler/xla/stream_executor/cuda/cuda_gpu_executor.cc:982] could not open file to read NUMA node: /sys/bus/pci/devices/0000:01:00.0/numa_node\n",
      "Your kernel may have been built without NUMA support.\n",
      "2023-04-07 15:59:31.357939: I tensorflow/compiler/xla/stream_executor/cuda/cuda_gpu_executor.cc:982] could not open file to read NUMA node: /sys/bus/pci/devices/0000:01:00.0/numa_node\n",
      "Your kernel may have been built without NUMA support.\n",
      "2023-04-07 15:59:31.359170: I tensorflow/compiler/xla/stream_executor/cuda/cuda_gpu_executor.cc:982] could not open file to read NUMA node: /sys/bus/pci/devices/0000:01:00.0/numa_node\n",
      "Your kernel may have been built without NUMA support.\n",
      "2023-04-07 15:59:31.361933: I tensorflow/compiler/xla/stream_executor/cuda/cuda_gpu_executor.cc:982] could not open file to read NUMA node: /sys/bus/pci/devices/0000:01:00.0/numa_node\n",
      "Your kernel may have been built without NUMA support.\n",
      "2023-04-07 15:59:31.362241: I tensorflow/compiler/xla/stream_executor/cuda/cuda_gpu_executor.cc:982] could not open file to read NUMA node: /sys/bus/pci/devices/0000:01:00.0/numa_node\n",
      "Your kernel may have been built without NUMA support.\n",
      "2023-04-07 15:59:31.362447: I tensorflow/compiler/xla/stream_executor/cuda/cuda_gpu_executor.cc:982] could not open file to read NUMA node: /sys/bus/pci/devices/0000:01:00.0/numa_node\n",
      "Your kernel may have been built without NUMA support.\n",
      "2023-04-07 15:59:33.348558: I tensorflow/compiler/xla/stream_executor/cuda/cuda_gpu_executor.cc:982] could not open file to read NUMA node: /sys/bus/pci/devices/0000:01:00.0/numa_node\n",
      "Your kernel may have been built without NUMA support.\n",
      "2023-04-07 15:59:33.348857: I tensorflow/compiler/xla/stream_executor/cuda/cuda_gpu_executor.cc:982] could not open file to read NUMA node: /sys/bus/pci/devices/0000:01:00.0/numa_node\n",
      "Your kernel may have been built without NUMA support.\n",
      "2023-04-07 15:59:33.348882: I tensorflow/core/common_runtime/gpu/gpu_device.cc:1722] Could not identify NUMA node of platform GPU id 0, defaulting to 0.  Your kernel may not have been built with NUMA support.\n",
      "2023-04-07 15:59:33.349130: I tensorflow/compiler/xla/stream_executor/cuda/cuda_gpu_executor.cc:982] could not open file to read NUMA node: /sys/bus/pci/devices/0000:01:00.0/numa_node\n",
      "Your kernel may have been built without NUMA support.\n",
      "2023-04-07 15:59:33.349167: I tensorflow/core/common_runtime/gpu/gpu_device.cc:1635] Created device /job:localhost/replica:0/task:0/device:GPU:0 with 3858 MB memory:  -> device: 0, name: NVIDIA GeForce RTX 2060, pci bus id: 0000:01:00.0, compute capability: 7.5\n"
     ]
    }
   ],
   "source": [
    "input_shape = (48, 48, 1)\n",
    "num_classes = 7\n",
    "\n",
    "model = Sequential([\n",
    "        Conv2D(64, (3, 3), activation='relu', input_shape=input_shape, padding='same'),\n",
    "        BatchNormalization(),\n",
    "        Dropout(0.2),\n",
    "        Conv2D(64, (3, 3), activation='relu', padding='same'),\n",
    "        BatchNormalization(),\n",
    "        MaxPooling2D(pool_size=(2, 2)),\n",
    "        Dropout(0.2),\n",
    "        \n",
    "        Conv2D(128, (3, 3), activation='relu', padding='same'),\n",
    "        BatchNormalization(),\n",
    "        Dropout(0.2),\n",
    "        Conv2D(128, (3, 3), activation='relu', padding='same'),\n",
    "        BatchNormalization(),\n",
    "        MaxPooling2D(pool_size=(2, 2)),\n",
    "        Dropout(0.2),\n",
    "\n",
    "        Conv2D(256, (3, 3), activation='relu', padding='same'),\n",
    "        BatchNormalization(),\n",
    "        Dropout(0.2),\n",
    "        Conv2D(256, (3, 3), activation='relu', padding='same'),\n",
    "        BatchNormalization(),\n",
    "        MaxPooling2D(pool_size=(2, 2)),\n",
    "        Dropout(0.2),\n",
    "    \n",
    "        Conv2D(512, (3, 3), activation='relu', padding='same'),\n",
    "        BatchNormalization(),\n",
    "        Dropout(0.2),\n",
    "        Conv2D(512, (3, 3), activation='relu', padding='same'),\n",
    "        BatchNormalization(),\n",
    "        MaxPooling2D(pool_size=(2, 2)),\n",
    "        Dropout(0.2),\n",
    "\n",
    "        Flatten(),\n",
    "        Dense(512, activation='relu'),\n",
    "        BatchNormalization(),\n",
    "        Dropout(0.2),\n",
    "        Dense(256, activation='relu'),\n",
    "        BatchNormalization(),\n",
    "        Dropout(0.2),\n",
    "        Dense(num_classes, activation='softmax')\n",
    "    ])\n"
   ]
  },
  {
   "cell_type": "code",
   "execution_count": null,
   "id": "1548c178-be4d-4c07-9f9f-103d12029c30",
   "metadata": {},
   "outputs": [],
   "source": [
    "import wandb\n",
    "from wandb.keras import WandbCallback\n"
   ]
  },
  {
   "cell_type": "code",
   "execution_count": null,
   "id": "294dbc50-fbd1-4854-afab-a1d5fedd35ef",
   "metadata": {},
   "outputs": [],
   "source": [
    "\n",
    "w = wandb.init(project='zadanie2',reinit=True)\n",
    "w.config.epochs = epochs\n",
    "w.config.batch_size = batch_size"
   ]
  },
  {
   "cell_type": "code",
   "execution_count": 6,
   "id": "39f01f1a",
   "metadata": {},
   "outputs": [
    {
     "name": "stderr",
     "output_type": "stream",
     "text": [
      "WARNING:absl:`lr` is deprecated in Keras optimizer, please use `learning_rate` or use the legacy optimizer, e.g.,tf.keras.optimizers.legacy.Adam.\n"
     ]
    }
   ],
   "source": [
    "optimizer = Adam(lr=0.001)\n",
    "model.compile(optimizer=optimizer, loss='categorical_crossentropy', metrics=['accuracy'])\n",
    "\n",
    "early_stopping = EarlyStopping(monitor='val_loss', patience=20)\n",
    "reduce_lr_on_plateau = ReduceLROnPlateau(monitor='val_loss', factor=0.1, patience=10)\n",
    "\n",
    "callbacks = [early_stopping, reduce_lr_on_plateau,WandbCallback()]\n"
   ]
  },
  {
   "cell_type": "code",
   "execution_count": 7,
   "id": "c7e63797",
   "metadata": {},
   "outputs": [
    {
     "name": "stderr",
     "output_type": "stream",
     "text": [
      "2023-04-07 15:59:34.159033: I tensorflow/core/common_runtime/executor.cc:1197] [/device:CPU:0] (DEBUG INFO) Executor start aborting (this does not indicate an error and you can ignore this message): INVALID_ARGUMENT: You must feed a value for placeholder tensor 'Placeholder/_0' with dtype int32\n",
      "\t [[{{node Placeholder/_0}}]]\n"
     ]
    },
    {
     "name": "stdout",
     "output_type": "stream",
     "text": [
      "Epoch 1/1000\n"
     ]
    },
    {
     "name": "stderr",
     "output_type": "stream",
     "text": [
      "2023-04-07 15:59:37.613539: E tensorflow/core/grappler/optimizers/meta_optimizer.cc:954] layout failed: INVALID_ARGUMENT: Size of values 0 does not match size of permutation 4 @ fanin shape insequential/dropout/dropout/SelectV2-2-TransposeNHWCToNCHW-LayoutOptimizer\n",
      "2023-04-07 15:59:40.225955: I tensorflow/compiler/xla/stream_executor/cuda/cuda_dnn.cc:424] Loaded cuDNN version 8600\n",
      "2023-04-07 15:59:43.952245: I tensorflow/compiler/xla/service/service.cc:169] XLA service 0x32656b30 initialized for platform CUDA (this does not guarantee that XLA will be used). Devices:\n",
      "2023-04-07 15:59:43.952301: I tensorflow/compiler/xla/service/service.cc:177]   StreamExecutor device (0): NVIDIA GeForce RTX 2060, Compute Capability 7.5\n",
      "2023-04-07 15:59:44.001050: I tensorflow/compiler/mlir/tensorflow/utils/dump_mlir_util.cc:269] disabling MLIR crash reproducer, set env var `MLIR_CRASH_REPRODUCER_DIRECTORY` to enable.\n",
      "2023-04-07 15:59:44.431668: I ./tensorflow/compiler/jit/device_compiler.h:180] Compiled cluster using XLA!  This line is logged at most once for the lifetime of the process.\n"
     ]
    },
    {
     "name": "stdout",
     "output_type": "stream",
     "text": [
      "225/225 [==============================] - ETA: 0s - loss: 2.0393 - accuracy: 0.2161"
     ]
    },
    {
     "name": "stderr",
     "output_type": "stream",
     "text": [
      "2023-04-07 16:00:32.308332: I tensorflow/core/common_runtime/executor.cc:1197] [/device:CPU:0] (DEBUG INFO) Executor start aborting (this does not indicate an error and you can ignore this message): INVALID_ARGUMENT: You must feed a value for placeholder tensor 'Placeholder/_0' with dtype int32\n",
      "\t [[{{node Placeholder/_0}}]]\n"
     ]
    },
    {
     "name": "stdout",
     "output_type": "stream",
     "text": [
      "225/225 [==============================] - 62s 196ms/step - loss: 2.0393 - accuracy: 0.2161 - val_loss: 1.9210 - val_accuracy: 0.2251 - lr: 0.0010\n",
      "Epoch 2/1000\n",
      "225/225 [==============================] - 40s 178ms/step - loss: 1.8393 - accuracy: 0.2675 - val_loss: 1.9907 - val_accuracy: 0.2570 - lr: 0.0010\n",
      "Epoch 3/1000\n",
      "225/225 [==============================] - 37s 165ms/step - loss: 1.7053 - accuracy: 0.3370 - val_loss: 1.5926 - val_accuracy: 0.3806 - lr: 0.0010\n",
      "Epoch 4/1000\n",
      "225/225 [==============================] - 37s 162ms/step - loss: 1.5601 - accuracy: 0.4031 - val_loss: 1.4208 - val_accuracy: 0.4610 - lr: 0.0010\n",
      "Epoch 5/1000\n",
      "225/225 [==============================] - 36s 161ms/step - loss: 1.4551 - accuracy: 0.4486 - val_loss: 1.3671 - val_accuracy: 0.4732 - lr: 0.0010\n",
      "Epoch 6/1000\n",
      "225/225 [==============================] - 38s 168ms/step - loss: 1.3507 - accuracy: 0.4833 - val_loss: 1.2575 - val_accuracy: 0.5245 - lr: 0.0010\n",
      "Epoch 7/1000\n",
      "225/225 [==============================] - 36s 162ms/step - loss: 1.2752 - accuracy: 0.5161 - val_loss: 1.1585 - val_accuracy: 0.5564 - lr: 0.0010\n",
      "Epoch 8/1000\n",
      "225/225 [==============================] - 38s 169ms/step - loss: 1.2250 - accuracy: 0.5395 - val_loss: 1.2342 - val_accuracy: 0.5288 - lr: 0.0010\n",
      "Epoch 9/1000\n",
      "225/225 [==============================] - 37s 165ms/step - loss: 1.1869 - accuracy: 0.5490 - val_loss: 1.1227 - val_accuracy: 0.5615 - lr: 0.0010\n",
      "Epoch 10/1000\n",
      "225/225 [==============================] - 36s 161ms/step - loss: 1.1572 - accuracy: 0.5613 - val_loss: 1.1647 - val_accuracy: 0.5749 - lr: 0.0010\n",
      "Epoch 11/1000\n",
      "225/225 [==============================] - 34s 151ms/step - loss: 1.1292 - accuracy: 0.5735 - val_loss: 1.0355 - val_accuracy: 0.6031 - lr: 0.0010\n",
      "Epoch 12/1000\n",
      "225/225 [==============================] - 32s 143ms/step - loss: 1.1080 - accuracy: 0.5796 - val_loss: 1.0636 - val_accuracy: 0.6017 - lr: 0.0010\n",
      "Epoch 13/1000\n",
      "225/225 [==============================] - 31s 140ms/step - loss: 1.0804 - accuracy: 0.5896 - val_loss: 1.0330 - val_accuracy: 0.6282 - lr: 0.0010\n",
      "Epoch 14/1000\n",
      "225/225 [==============================] - 31s 139ms/step - loss: 1.0615 - accuracy: 0.6013 - val_loss: 1.0058 - val_accuracy: 0.6140 - lr: 0.0010\n",
      "Epoch 15/1000\n",
      "225/225 [==============================] - 31s 139ms/step - loss: 1.0506 - accuracy: 0.6057 - val_loss: 1.0251 - val_accuracy: 0.6165 - lr: 0.0010\n",
      "Epoch 16/1000\n",
      "225/225 [==============================] - 31s 139ms/step - loss: 1.0265 - accuracy: 0.6163 - val_loss: 0.9655 - val_accuracy: 0.6330 - lr: 0.0010\n",
      "Epoch 17/1000\n",
      "225/225 [==============================] - 31s 139ms/step - loss: 1.0099 - accuracy: 0.6181 - val_loss: 1.0041 - val_accuracy: 0.6174 - lr: 0.0010\n",
      "Epoch 18/1000\n",
      "225/225 [==============================] - 32s 140ms/step - loss: 1.0041 - accuracy: 0.6251 - val_loss: 1.0534 - val_accuracy: 0.6074 - lr: 0.0010\n",
      "Epoch 19/1000\n",
      "225/225 [==============================] - 31s 139ms/step - loss: 0.9872 - accuracy: 0.6293 - val_loss: 0.9418 - val_accuracy: 0.6470 - lr: 0.0010\n",
      "Epoch 20/1000\n",
      "225/225 [==============================] - 31s 139ms/step - loss: 0.9725 - accuracy: 0.6340 - val_loss: 0.9748 - val_accuracy: 0.6353 - lr: 0.0010\n",
      "Epoch 21/1000\n",
      "225/225 [==============================] - 31s 139ms/step - loss: 0.9577 - accuracy: 0.6420 - val_loss: 0.9596 - val_accuracy: 0.6422 - lr: 0.0010\n",
      "Epoch 22/1000\n",
      "225/225 [==============================] - 31s 139ms/step - loss: 0.9524 - accuracy: 0.6423 - val_loss: 0.9449 - val_accuracy: 0.6547 - lr: 0.0010\n",
      "Epoch 23/1000\n",
      "225/225 [==============================] - 31s 139ms/step - loss: 0.9379 - accuracy: 0.6483 - val_loss: 0.9451 - val_accuracy: 0.6544 - lr: 0.0010\n",
      "Epoch 24/1000\n",
      "225/225 [==============================] - 31s 140ms/step - loss: 0.9270 - accuracy: 0.6544 - val_loss: 0.9258 - val_accuracy: 0.6650 - lr: 0.0010\n",
      "Epoch 25/1000\n",
      "225/225 [==============================] - 31s 139ms/step - loss: 0.9168 - accuracy: 0.6579 - val_loss: 0.9144 - val_accuracy: 0.6709 - lr: 0.0010\n",
      "Epoch 26/1000\n",
      "225/225 [==============================] - 31s 139ms/step - loss: 0.9043 - accuracy: 0.6649 - val_loss: 0.9726 - val_accuracy: 0.6433 - lr: 0.0010\n",
      "Epoch 27/1000\n",
      "225/225 [==============================] - 31s 139ms/step - loss: 0.8954 - accuracy: 0.6648 - val_loss: 0.9223 - val_accuracy: 0.6581 - lr: 0.0010\n",
      "Epoch 28/1000\n",
      "225/225 [==============================] - 31s 138ms/step - loss: 0.8768 - accuracy: 0.6753 - val_loss: 0.9304 - val_accuracy: 0.6541 - lr: 0.0010\n",
      "Epoch 29/1000\n",
      "225/225 [==============================] - 31s 139ms/step - loss: 0.8757 - accuracy: 0.6738 - val_loss: 0.9431 - val_accuracy: 0.6618 - lr: 0.0010\n",
      "Epoch 30/1000\n",
      "225/225 [==============================] - 31s 139ms/step - loss: 0.8641 - accuracy: 0.6769 - val_loss: 0.9122 - val_accuracy: 0.6687 - lr: 0.0010\n",
      "Epoch 31/1000\n",
      "225/225 [==============================] - 31s 140ms/step - loss: 0.8476 - accuracy: 0.6843 - val_loss: 0.9044 - val_accuracy: 0.6761 - lr: 0.0010\n",
      "Epoch 32/1000\n",
      "225/225 [==============================] - 31s 138ms/step - loss: 0.8420 - accuracy: 0.6852 - val_loss: 0.9225 - val_accuracy: 0.6644 - lr: 0.0010\n",
      "Epoch 33/1000\n",
      "225/225 [==============================] - 31s 139ms/step - loss: 0.8271 - accuracy: 0.6917 - val_loss: 0.9142 - val_accuracy: 0.6766 - lr: 0.0010\n",
      "Epoch 34/1000\n",
      "225/225 [==============================] - 32s 140ms/step - loss: 0.8233 - accuracy: 0.6966 - val_loss: 0.8903 - val_accuracy: 0.6783 - lr: 0.0010\n",
      "Epoch 35/1000\n",
      "225/225 [==============================] - 32s 140ms/step - loss: 0.8097 - accuracy: 0.6979 - val_loss: 0.9843 - val_accuracy: 0.6499 - lr: 0.0010\n",
      "Epoch 36/1000\n",
      "225/225 [==============================] - 31s 139ms/step - loss: 0.7965 - accuracy: 0.7058 - val_loss: 0.9400 - val_accuracy: 0.6692 - lr: 0.0010\n",
      "Epoch 37/1000\n",
      "225/225 [==============================] - 31s 138ms/step - loss: 0.7946 - accuracy: 0.7074 - val_loss: 0.9090 - val_accuracy: 0.6707 - lr: 0.0010\n",
      "Epoch 38/1000\n",
      "225/225 [==============================] - 31s 139ms/step - loss: 0.7807 - accuracy: 0.7113 - val_loss: 0.9119 - val_accuracy: 0.6781 - lr: 0.0010\n",
      "Epoch 39/1000\n",
      "225/225 [==============================] - 32s 142ms/step - loss: 0.7726 - accuracy: 0.7131 - val_loss: 0.9260 - val_accuracy: 0.6689 - lr: 0.0010\n",
      "Epoch 40/1000\n",
      "225/225 [==============================] - 32s 140ms/step - loss: 0.7626 - accuracy: 0.7186 - val_loss: 0.9440 - val_accuracy: 0.6707 - lr: 0.0010\n",
      "Epoch 41/1000\n",
      "225/225 [==============================] - 32s 141ms/step - loss: 0.7512 - accuracy: 0.7213 - val_loss: 0.9156 - val_accuracy: 0.6781 - lr: 0.0010\n",
      "Epoch 42/1000\n",
      "225/225 [==============================] - 31s 140ms/step - loss: 0.7424 - accuracy: 0.7271 - val_loss: 0.9297 - val_accuracy: 0.6783 - lr: 0.0010\n",
      "Epoch 43/1000\n",
      "225/225 [==============================] - 31s 139ms/step - loss: 0.7392 - accuracy: 0.7287 - val_loss: 0.9558 - val_accuracy: 0.6738 - lr: 0.0010\n",
      "Epoch 44/1000\n",
      "225/225 [==============================] - 32s 140ms/step - loss: 0.7213 - accuracy: 0.7353 - val_loss: 0.9201 - val_accuracy: 0.6858 - lr: 0.0010\n",
      "Epoch 45/1000\n",
      "225/225 [==============================] - 31s 139ms/step - loss: 0.6698 - accuracy: 0.7526 - val_loss: 0.8724 - val_accuracy: 0.7000 - lr: 1.0000e-04\n",
      "Epoch 46/1000\n",
      "225/225 [==============================] - 32s 140ms/step - loss: 0.6417 - accuracy: 0.7612 - val_loss: 0.8770 - val_accuracy: 0.7037 - lr: 1.0000e-04\n",
      "Epoch 47/1000\n",
      "225/225 [==============================] - 32s 140ms/step - loss: 0.6303 - accuracy: 0.7671 - val_loss: 0.8815 - val_accuracy: 0.7014 - lr: 1.0000e-04\n",
      "Epoch 48/1000\n",
      "225/225 [==============================] - 31s 139ms/step - loss: 0.6262 - accuracy: 0.7704 - val_loss: 0.8822 - val_accuracy: 0.7060 - lr: 1.0000e-04\n",
      "Epoch 49/1000\n",
      "225/225 [==============================] - 32s 141ms/step - loss: 0.6142 - accuracy: 0.7724 - val_loss: 0.8860 - val_accuracy: 0.7017 - lr: 1.0000e-04\n",
      "Epoch 50/1000\n",
      "225/225 [==============================] - 31s 140ms/step - loss: 0.6130 - accuracy: 0.7735 - val_loss: 0.8878 - val_accuracy: 0.7060 - lr: 1.0000e-04\n",
      "Epoch 51/1000\n",
      "225/225 [==============================] - 32s 140ms/step - loss: 0.6047 - accuracy: 0.7778 - val_loss: 0.8963 - val_accuracy: 0.7026 - lr: 1.0000e-04\n",
      "Epoch 52/1000\n",
      "225/225 [==============================] - 32s 140ms/step - loss: 0.6013 - accuracy: 0.7802 - val_loss: 0.9056 - val_accuracy: 0.7026 - lr: 1.0000e-04\n",
      "Epoch 53/1000\n",
      "225/225 [==============================] - 32s 141ms/step - loss: 0.5948 - accuracy: 0.7818 - val_loss: 0.9045 - val_accuracy: 0.6980 - lr: 1.0000e-04\n",
      "Epoch 54/1000\n",
      "225/225 [==============================] - 31s 140ms/step - loss: 0.5909 - accuracy: 0.7826 - val_loss: 0.9067 - val_accuracy: 0.7031 - lr: 1.0000e-04\n",
      "Epoch 55/1000\n",
      "225/225 [==============================] - 31s 139ms/step - loss: 0.5818 - accuracy: 0.7852 - val_loss: 0.9038 - val_accuracy: 0.7083 - lr: 1.0000e-04\n",
      "Epoch 56/1000\n",
      "225/225 [==============================] - 31s 139ms/step - loss: 0.5782 - accuracy: 0.7860 - val_loss: 0.9058 - val_accuracy: 0.7034 - lr: 1.0000e-05\n",
      "Epoch 57/1000\n",
      "225/225 [==============================] - 32s 142ms/step - loss: 0.5819 - accuracy: 0.7842 - val_loss: 0.9069 - val_accuracy: 0.7031 - lr: 1.0000e-05\n",
      "Epoch 58/1000\n",
      "225/225 [==============================] - 31s 139ms/step - loss: 0.5754 - accuracy: 0.7887 - val_loss: 0.9089 - val_accuracy: 0.7031 - lr: 1.0000e-05\n",
      "Epoch 59/1000\n",
      "225/225 [==============================] - 32s 140ms/step - loss: 0.5715 - accuracy: 0.7875 - val_loss: 0.9071 - val_accuracy: 0.7034 - lr: 1.0000e-05\n",
      "Epoch 60/1000\n",
      "225/225 [==============================] - 31s 139ms/step - loss: 0.5751 - accuracy: 0.7905 - val_loss: 0.9076 - val_accuracy: 0.7046 - lr: 1.0000e-05\n",
      "Epoch 61/1000\n",
      "225/225 [==============================] - 31s 139ms/step - loss: 0.5732 - accuracy: 0.7900 - val_loss: 0.9081 - val_accuracy: 0.7046 - lr: 1.0000e-05\n",
      "Epoch 62/1000\n",
      "225/225 [==============================] - 32s 142ms/step - loss: 0.5688 - accuracy: 0.7908 - val_loss: 0.9071 - val_accuracy: 0.7037 - lr: 1.0000e-05\n",
      "Epoch 63/1000\n",
      "225/225 [==============================] - 45s 198ms/step - loss: 0.5717 - accuracy: 0.7891 - val_loss: 0.9050 - val_accuracy: 0.7048 - lr: 1.0000e-05\n",
      "Epoch 64/1000\n",
      "225/225 [==============================] - 45s 199ms/step - loss: 0.5751 - accuracy: 0.7887 - val_loss: 0.9085 - val_accuracy: 0.7043 - lr: 1.0000e-05\n",
      "Epoch 65/1000\n",
      "225/225 [==============================] - 44s 196ms/step - loss: 0.5689 - accuracy: 0.7919 - val_loss: 0.9090 - val_accuracy: 0.7048 - lr: 1.0000e-05\n"
     ]
    }
   ],
   "source": [
    "history = model.fit(\n",
    "    train_generator,\n",
    "    epochs=epochs,\n",
    "    verbose=1,\n",
    "    callbacks=callbacks,\n",
    "    validation_data=valid_generator)"
   ]
  },
  {
   "cell_type": "code",
   "execution_count": 8,
   "id": "2835ab11",
   "metadata": {
    "scrolled": true
   },
   "outputs": [
    {
     "name": "stderr",
     "output_type": "stream",
     "text": [
      "2023-04-07 16:35:45.804678: I tensorflow/core/common_runtime/executor.cc:1197] [/device:CPU:0] (DEBUG INFO) Executor start aborting (this does not indicate an error and you can ignore this message): INVALID_ARGUMENT: You must feed a value for placeholder tensor 'Placeholder/_0' with dtype int32\n",
      "\t [[{{node Placeholder/_0}}]]\n"
     ]
    },
    {
     "name": "stdout",
     "output_type": "stream",
     "text": [
      "Test loss: 0.9506130218505859\n",
      "Test accuracy: 0.6930207014083862\n"
     ]
    }
   ],
   "source": [
    "score = model.evaluate(test_generator, verbose=0)\n",
    "print('Test loss:', score[0])\n",
    "print('Test accuracy:', score[1])"
   ]
  },
  {
   "cell_type": "code",
   "execution_count": 9,
   "id": "751b33ec",
   "metadata": {},
   "outputs": [
    {
     "name": "stderr",
     "output_type": "stream",
     "text": [
      "2023-04-07 16:35:52.123119: I tensorflow/core/common_runtime/executor.cc:1197] [/device:CPU:0] (DEBUG INFO) Executor start aborting (this does not indicate an error and you can ignore this message): INVALID_ARGUMENT: You must feed a value for placeholder tensor 'inputs' with dtype float and shape [?,48,48,64]\n",
      "\t [[{{node inputs}}]]\n",
      "2023-04-07 16:35:52.154680: I tensorflow/core/common_runtime/executor.cc:1197] [/device:CPU:0] (DEBUG INFO) Executor start aborting (this does not indicate an error and you can ignore this message): INVALID_ARGUMENT: You must feed a value for placeholder tensor 'inputs' with dtype float and shape [?,24,24,64]\n",
      "\t [[{{node inputs}}]]\n",
      "2023-04-07 16:35:52.186522: I tensorflow/core/common_runtime/executor.cc:1197] [/device:CPU:0] (DEBUG INFO) Executor start aborting (this does not indicate an error and you can ignore this message): INVALID_ARGUMENT: You must feed a value for placeholder tensor 'inputs' with dtype float and shape [?,24,24,128]\n",
      "\t [[{{node inputs}}]]\n",
      "2023-04-07 16:35:52.223508: I tensorflow/core/common_runtime/executor.cc:1197] [/device:CPU:0] (DEBUG INFO) Executor start aborting (this does not indicate an error and you can ignore this message): INVALID_ARGUMENT: You must feed a value for placeholder tensor 'inputs' with dtype float and shape [?,12,12,128]\n",
      "\t [[{{node inputs}}]]\n",
      "2023-04-07 16:35:52.473303: I tensorflow/core/common_runtime/executor.cc:1197] [/device:CPU:0] (DEBUG INFO) Executor start aborting (this does not indicate an error and you can ignore this message): INVALID_ARGUMENT: You must feed a value for placeholder tensor 'inputs' with dtype float and shape [?,12,12,256]\n",
      "\t [[{{node inputs}}]]\n",
      "2023-04-07 16:35:52.514481: I tensorflow/core/common_runtime/executor.cc:1197] [/device:CPU:0] (DEBUG INFO) Executor start aborting (this does not indicate an error and you can ignore this message): INVALID_ARGUMENT: You must feed a value for placeholder tensor 'inputs' with dtype float and shape [?,6,6,256]\n",
      "\t [[{{node inputs}}]]\n",
      "2023-04-07 16:35:52.550600: I tensorflow/core/common_runtime/executor.cc:1197] [/device:CPU:0] (DEBUG INFO) Executor start aborting (this does not indicate an error and you can ignore this message): INVALID_ARGUMENT: You must feed a value for placeholder tensor 'inputs' with dtype float and shape [?,6,6,512]\n",
      "\t [[{{node inputs}}]]\n",
      "2023-04-07 16:35:52.585562: I tensorflow/core/common_runtime/executor.cc:1197] [/device:CPU:0] (DEBUG INFO) Executor start aborting (this does not indicate an error and you can ignore this message): INVALID_ARGUMENT: You must feed a value for placeholder tensor 'inputs' with dtype float and shape [?,3,3,512]\n",
      "\t [[{{node inputs}}]]\n",
      "2023-04-07 16:35:52.625402: I tensorflow/core/common_runtime/executor.cc:1197] [/device:CPU:0] (DEBUG INFO) Executor start aborting (this does not indicate an error and you can ignore this message): INVALID_ARGUMENT: You must feed a value for placeholder tensor 'inputs' with dtype float and shape [?,512]\n",
      "\t [[{{node inputs}}]]\n",
      "2023-04-07 16:35:52.674605: I tensorflow/core/common_runtime/executor.cc:1197] [/device:CPU:0] (DEBUG INFO) Executor start aborting (this does not indicate an error and you can ignore this message): INVALID_ARGUMENT: You must feed a value for placeholder tensor 'inputs' with dtype float and shape [?,256]\n",
      "\t [[{{node inputs}}]]\n",
      "2023-04-07 16:35:54.354448: I tensorflow/core/common_runtime/executor.cc:1197] [/device:CPU:0] (DEBUG INFO) Executor start aborting (this does not indicate an error and you can ignore this message): INVALID_ARGUMENT: You must feed a value for placeholder tensor 'inputs' with dtype float and shape [?,48,48,64]\n",
      "\t [[{{node inputs}}]]\n",
      "2023-04-07 16:35:54.487170: I tensorflow/core/common_runtime/executor.cc:1197] [/device:CPU:0] (DEBUG INFO) Executor start aborting (this does not indicate an error and you can ignore this message): INVALID_ARGUMENT: You must feed a value for placeholder tensor 'inputs' with dtype float and shape [?,24,24,64]\n",
      "\t [[{{node inputs}}]]\n",
      "2023-04-07 16:35:54.612943: I tensorflow/core/common_runtime/executor.cc:1197] [/device:CPU:0] (DEBUG INFO) Executor start aborting (this does not indicate an error and you can ignore this message): INVALID_ARGUMENT: You must feed a value for placeholder tensor 'inputs' with dtype float and shape [?,24,24,128]\n",
      "\t [[{{node inputs}}]]\n",
      "2023-04-07 16:35:54.759492: I tensorflow/core/common_runtime/executor.cc:1197] [/device:CPU:0] (DEBUG INFO) Executor start aborting (this does not indicate an error and you can ignore this message): INVALID_ARGUMENT: You must feed a value for placeholder tensor 'inputs' with dtype float and shape [?,12,12,128]\n",
      "\t [[{{node inputs}}]]\n",
      "2023-04-07 16:35:54.916876: I tensorflow/core/common_runtime/executor.cc:1197] [/device:CPU:0] (DEBUG INFO) Executor start aborting (this does not indicate an error and you can ignore this message): INVALID_ARGUMENT: You must feed a value for placeholder tensor 'inputs' with dtype float and shape [?,12,12,256]\n",
      "\t [[{{node inputs}}]]\n",
      "2023-04-07 16:35:55.074664: I tensorflow/core/common_runtime/executor.cc:1197] [/device:CPU:0] (DEBUG INFO) Executor start aborting (this does not indicate an error and you can ignore this message): INVALID_ARGUMENT: You must feed a value for placeholder tensor 'inputs' with dtype float and shape [?,6,6,256]\n",
      "\t [[{{node inputs}}]]\n",
      "2023-04-07 16:35:55.226562: I tensorflow/core/common_runtime/executor.cc:1197] [/device:CPU:0] (DEBUG INFO) Executor start aborting (this does not indicate an error and you can ignore this message): INVALID_ARGUMENT: You must feed a value for placeholder tensor 'inputs' with dtype float and shape [?,6,6,512]\n",
      "\t [[{{node inputs}}]]\n",
      "2023-04-07 16:35:55.371873: I tensorflow/core/common_runtime/executor.cc:1197] [/device:CPU:0] (DEBUG INFO) Executor start aborting (this does not indicate an error and you can ignore this message): INVALID_ARGUMENT: You must feed a value for placeholder tensor 'inputs' with dtype float and shape [?,3,3,512]\n",
      "\t [[{{node inputs}}]]\n",
      "2023-04-07 16:35:55.551829: I tensorflow/core/common_runtime/executor.cc:1197] [/device:CPU:0] (DEBUG INFO) Executor start aborting (this does not indicate an error and you can ignore this message): INVALID_ARGUMENT: You must feed a value for placeholder tensor 'inputs' with dtype float and shape [?,512]\n",
      "\t [[{{node inputs}}]]\n",
      "2023-04-07 16:35:55.710825: I tensorflow/core/common_runtime/executor.cc:1197] [/device:CPU:0] (DEBUG INFO) Executor start aborting (this does not indicate an error and you can ignore this message): INVALID_ARGUMENT: You must feed a value for placeholder tensor 'inputs' with dtype float and shape [?,256]\n",
      "\t [[{{node inputs}}]]\n",
      "WARNING:absl:Found untraced functions such as _jit_compiled_convolution_op, _jit_compiled_convolution_op, _jit_compiled_convolution_op, _jit_compiled_convolution_op, _jit_compiled_convolution_op while saving (showing 5 of 8). These functions will not be directly callable after loading.\n"
     ]
    },
    {
     "name": "stdout",
     "output_type": "stream",
     "text": [
      "INFO:tensorflow:Assets written to: ./vanila3/assets\n"
     ]
    },
    {
     "name": "stderr",
     "output_type": "stream",
     "text": [
      "INFO:tensorflow:Assets written to: ./vanila3/assets\n"
     ]
    }
   ],
   "source": [
    "model.save('./'+ 'vanila3')"
   ]
  },
  {
   "cell_type": "code",
   "execution_count": 10,
   "id": "34dfa94f",
   "metadata": {},
   "outputs": [
    {
     "name": "stderr",
     "output_type": "stream",
     "text": [
      "2023-04-07 16:35:58.716928: I tensorflow/core/common_runtime/executor.cc:1197] [/device:CPU:0] (DEBUG INFO) Executor start aborting (this does not indicate an error and you can ignore this message): INVALID_ARGUMENT: You must feed a value for placeholder tensor 'Placeholder/_0' with dtype int32\n",
      "\t [[{{node Placeholder/_0}}]]\n"
     ]
    },
    {
     "name": "stdout",
     "output_type": "stream",
     "text": [
      "Test loss: 0.4288710057735443\n",
      "Test accuracy: 0.8451008200645447\n"
     ]
    }
   ],
   "source": [
    "score = model.evaluate(train_generator, verbose=0)\n",
    "print('Test loss:', score[0])\n",
    "print('Test accuracy:', score[1])"
   ]
  },
  {
   "cell_type": "code",
   "execution_count": 11,
   "id": "acb5fe5b",
   "metadata": {},
   "outputs": [
    {
     "name": "stderr",
     "output_type": "stream",
     "text": [
      "2023-04-07 16:36:18.751735: I tensorflow/core/common_runtime/executor.cc:1197] [/device:CPU:0] (DEBUG INFO) Executor start aborting (this does not indicate an error and you can ignore this message): INVALID_ARGUMENT: You must feed a value for placeholder tensor 'Placeholder/_0' with dtype int32\n",
      "\t [[{{node Placeholder/_0}}]]\n"
     ]
    },
    {
     "name": "stdout",
     "output_type": "stream",
     "text": [
      "Test loss: 0.9089706540107727\n",
      "Test accuracy: 0.704843282699585\n"
     ]
    }
   ],
   "source": [
    "score = model.evaluate(valid_generator, verbose=0)\n",
    "print('Test loss:', score[0])\n",
    "print('Test accuracy:', score[1])"
   ]
  },
  {
   "cell_type": "code",
   "execution_count": null,
   "id": "113fa990",
   "metadata": {},
   "outputs": [],
   "source": []
  }
 ],
 "metadata": {
  "kernelspec": {
   "display_name": "Python 3 (ipykernel)",
   "language": "python",
   "name": "python3"
  },
  "language_info": {
   "codemirror_mode": {
    "name": "ipython",
    "version": 3
   },
   "file_extension": ".py",
   "mimetype": "text/x-python",
   "name": "python",
   "nbconvert_exporter": "python",
   "pygments_lexer": "ipython3",
   "version": "3.10.1"
  }
 },
 "nbformat": 4,
 "nbformat_minor": 5
}
